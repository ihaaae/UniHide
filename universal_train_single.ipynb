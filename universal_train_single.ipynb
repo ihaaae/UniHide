{
 "cells": [
  {
   "cell_type": "code",
   "execution_count": null,
   "metadata": {},
   "outputs": [],
   "source": [
    "!python main_single.py --mode train \\\n",
    "                       --run_dir /root/single_exp \\\n",
    "                       --train_path /root/autodl-tmp/Timit/train \\\n",
    "                       --val_path /root/autodl-tmp/Timit/validation \\\n",
    "                       --test_path /root/autodl-tmp/Timit/test \\\n",
    "                       --message_file /root/autodl-tmp/Timit/train/dr1/fcjf0/sa1.wav \\\n",
    "                       --batch_size 32 \\\n",
    "                       --epochs 100 \\\n",
    "                       --lr 0.0004 \\\n",
    "                       --dataset timit"
   ]
  },
  {
   "cell_type": "code",
   "execution_count": null,
   "metadata": {},
   "outputs": [],
   "source": [
    "!python main.py --mode train \\\n",
    "                --run_dir /root/temp \\\n",
    "                --train_path /root/autodl-tmp/Timit/train \\\n",
    "                --val_path /root/autodl-tmp/Timit/validation \\\n",
    "                --test_path /root/autodl-tmp/Timit/test \\\n",
    "                --message_file /root/autodl-tmp/Timit/train/dr1/fcjf0/sa1.wav \\\n",
    "                --dataset timit \\\n",
    "                --batch_size 32 \\\n",
    "                --single True \\\n",
    "                --num_iters 1"
   ]
  }
 ],
 "metadata": {
  "kernelspec": {
   "display_name": "Python 3 (ipykernel)",
   "language": "python",
   "name": "python3"
  },
  "language_info": {
   "codemirror_mode": {
    "name": "ipython",
    "version": 3
   },
   "file_extension": ".py",
   "mimetype": "text/x-python",
   "name": "python",
   "nbconvert_exporter": "python",
   "pygments_lexer": "ipython3",
   "version": "3.8.10"
  }
 },
 "nbformat": 4,
 "nbformat_minor": 4
}
