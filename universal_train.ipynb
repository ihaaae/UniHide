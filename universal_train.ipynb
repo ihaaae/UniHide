{
 "cells": [
  {
   "cell_type": "code",
   "execution_count": null,
   "id": "1c1c85fc-169b-4fc1-9e98-709be081a985",
   "metadata": {},
   "outputs": [],
   "source": [
    "!python main_universal.py \\\n",
    "                --mode train \\\n",
    "                --run_dir /root/temp \\\n",
    "                --train_path /root/autodl-tmp/Timit/train \\\n",
    "                --val_path /root/autodl-tmp/Timit/validation \\\n",
    "                --test_path /root/autodl-tmp/Timit/test \\\n",
    "                --dataset timit \\\n",
    "                --batch_size 32 \\\n",
    "                --n_pairs 480 \\\n",
    "                --num_iters 1 "
   ]
  },
  {
   "cell_type": "code",
   "execution_count": null,
   "id": "1cbed3e5-46d9-4382-b6d7-e092db525544",
   "metadata": {},
   "outputs": [],
   "source": [
    "!python main_refactor.py \\\n",
    "                --mode train \\\n",
    "                --run_dir /root/temp \\\n",
    "                --train_path /root/autodl-tmp/Timit/train \\\n",
    "                --val_path /root/autodl-tmp/Timit/validation \\\n",
    "                --test_path /root/autodl-tmp/Timit/test \\\n",
    "                --dataset timit \\\n",
    "                --batch_size 32 \\\n",
    "                --n_pairs 4608 \\\n",
    "                --num_iters 5 "
   ]
  },
  {
   "cell_type": "code",
   "execution_count": null,
   "metadata": {},
   "outputs": [],
   "source": [
    "!python main_refactor.py --mode test \\\n",
    "                         --run_dir /root/experiment \\\n",
    "                         --load_ckpt /root/temp/ckpt/5_epoch \\\n",
    "                         --train_path /root/autodl-tmp/Timit/train \\\n",
    "                         --val_path /root/autodl-tmp/Timit/validation \\\n",
    "                         --test_path /root/autodl-tmp/Timit/test \\\n",
    "                         --dataset timit"
   ]
  }
 ],
 "metadata": {
  "kernelspec": {
   "display_name": "Python 3 (ipykernel)",
   "language": "python",
   "name": "python3"
  },
  "language_info": {
   "codemirror_mode": {
    "name": "ipython",
    "version": 3
   },
   "file_extension": ".py",
   "mimetype": "text/x-python",
   "name": "python",
   "nbconvert_exporter": "python",
   "pygments_lexer": "ipython3",
   "version": "3.8.10"
  }
 },
 "nbformat": 4,
 "nbformat_minor": 5
}
