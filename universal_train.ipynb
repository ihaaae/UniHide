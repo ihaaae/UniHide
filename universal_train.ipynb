{
 "cells": [
  {
   "cell_type": "code",
   "execution_count": null,
   "id": "1c1c85fc-169b-4fc1-9e98-709be081a985",
   "metadata": {},
   "outputs": [],
   "source": [
    "!python main_universal.py \\\n",
    "                --mode train \\\n",
    "                --run_dir /root/temp \\\n",
    "                --train_path /root/autodl-tmp/Timit/train \\\n",
    "                --val_path /root/autodl-tmp/Timit/validation \\\n",
    "                --test_path /root/autodl-tmp/Timit/test \\\n",
    "                --dataset timit \\\n",
    "                --batch_size 32 \\\n",
    "                --n_pairs 480 \\\n",
    "                --num_iters 1 "
   ]
  },
  {
   "cell_type": "code",
   "execution_count": 5,
   "id": "1cbed3e5-46d9-4382-b6d7-e092db525544",
   "metadata": {},
   "outputs": [
    {
     "name": "stdout",
     "output_type": "stream",
     "text": [
      "\u001b[32m2023-11-17 17:46:56.280\u001b[0m | \u001b[1mINFO    \u001b[0m | \u001b[36mexperiment\u001b[0m:\u001b[36m__init__\u001b[0m:\u001b[36m75\u001b[0m - \u001b[1mexperiment folder: /root/temp\u001b[0m\n",
      "\u001b[32m2023-11-17 17:46:56.282\u001b[0m | \u001b[1mINFO    \u001b[0m | \u001b[36mexperiment\u001b[0m:\u001b[36msave_hparams\u001b[0m:\u001b[36m106\u001b[0m - \u001b[1mparsing ArgumentParser hparams\u001b[0m\n",
      "\u001b[32m2023-11-17 17:46:56.285\u001b[0m | \u001b[1mINFO    \u001b[0m | \u001b[36mexperiment\u001b[0m:\u001b[36msave_hparams\u001b[0m:\u001b[36m118\u001b[0m - \u001b[1mhparams file saved to: /root/temp/hparams.yaml\u001b[0m\n",
      "\u001b[32m2023-11-17 17:46:56.286\u001b[0m | \u001b[1mINFO    \u001b[0m | \u001b[36mexperiment\u001b[0m:\u001b[36msave_hparams\u001b[0m:\u001b[36m128\u001b[0m - \u001b[1mhyper-parameters:\n",
      "batch_size: 32\n",
      "block_type: normal\n",
      "dataset: timit\n",
      "dec_c_n_layers: 4\n",
      "enc_n_layers: 3\n",
      "lambda_carrier_loss: 3.0\n",
      "lambda_msg_loss: 1.0\n",
      "load_ckpt: null\n",
      "loss_type: mse\n",
      "lr: 0.001\n",
      "mode: train\n",
      "n_pairs: 4608\n",
      "num_iters: 1\n",
      "num_workers: 20\n",
      "run_dir: /root/temp\n",
      "sample_every: null\n",
      "save_model_every: null\n",
      "test_path: /root/autodl-tmp/Timit/test\n",
      "train_path: /root/autodl-tmp/Timit/train\n",
      "val_path: /root/autodl-tmp/Timit/validation\u001b[0m\n",
      "\u001b[32m2023-11-17 17:46:56.287\u001b[0m | \u001b[1mINFO    \u001b[0m | \u001b[36msolver_refactor\u001b[0m:\u001b[36mcreate_dirs\u001b[0m:\u001b[36m97\u001b[0m - \u001b[1mcreated dirs\u001b[0m\n"
     ]
    }
   ],
   "source": [
    "!python main_refactor.py \\\n",
    "                --mode train \\\n",
    "                --run_dir /root/temp \\\n",
    "                --train_path /root/autodl-tmp/Timit/train \\\n",
    "                --val_path /root/autodl-tmp/Timit/validation \\\n",
    "                --test_path /root/autodl-tmp/Timit/test \\\n",
    "                --dataset timit \\\n",
    "                --batch_size 32 \\\n",
    "                --n_pairs 4608 \\\n",
    "                --num_iters 1"
   ]
  },
  {
   "cell_type": "code",
   "execution_count": null,
   "metadata": {},
   "outputs": [],
   "source": [
    "!python main_refactor.py --mode test \\\n",
    "                         --run_dir /root/experiment \\\n",
    "                         --load_ckpt /root/temp/ckpt/1_epoch \\\n",
    "                         --train_path /root/autodl-tmp/Timit/train \\\n",
    "                         --val_path /root/autodl-tmp/Timit/validation \\\n",
    "                         --test_path /root/autodl-tmp/Timit/test \\\n",
    "                         --dataset timit"
   ]
  }
 ],
 "metadata": {
  "kernelspec": {
   "display_name": "Python 3 (ipykernel)",
   "language": "python",
   "name": "python3"
  },
  "language_info": {
   "codemirror_mode": {
    "name": "ipython",
    "version": 3
   },
   "file_extension": ".py",
   "mimetype": "text/x-python",
   "name": "python",
   "nbconvert_exporter": "python",
   "pygments_lexer": "ipython3",
   "version": "3.8.10"
  }
 },
 "nbformat": 4,
 "nbformat_minor": 5
}
